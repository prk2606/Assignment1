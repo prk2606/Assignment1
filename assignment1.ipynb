{
 "cells": [
  {
   "cell_type": "code",
   "execution_count": 2,
   "id": "82f29bf9",
   "metadata": {},
   "outputs": [],
   "source": [
    "##** What is 7 to the power of 4?**"
   ]
  },
  {
   "cell_type": "code",
   "execution_count": 4,
   "id": "1c5a5a25",
   "metadata": {},
   "outputs": [
    {
     "data": {
      "text/plain": [
       "2401"
      ]
     },
     "execution_count": 4,
     "metadata": {},
     "output_type": "execute_result"
    }
   ],
   "source": [
    "7**4"
   ]
  },
  {
   "cell_type": "code",
   "execution_count": 9,
   "id": "bb2ac8db",
   "metadata": {},
   "outputs": [
    {
     "data": {
      "text/plain": [
       "' \\n** Split this string:**\\ns = \"Hi there Yogesh!\"\\n**into a list. ** \\n'"
      ]
     },
     "execution_count": 9,
     "metadata": {},
     "output_type": "execute_result"
    }
   ],
   "source": [
    "\"\"\" \n",
    "** Split this string:**\n",
    "s = \"Hi there Yogesh!\"\n",
    "**into a list. ** \n",
    "\"\"\""
   ]
  },
  {
   "cell_type": "code",
   "execution_count": 18,
   "id": "eb4f344b",
   "metadata": {},
   "outputs": [
    {
     "name": "stdout",
     "output_type": "stream",
     "text": [
      "['Hi', 'there', 'Yogesh!']\n"
     ]
    }
   ],
   "source": [
    "s= \"Hi there Yogesh!\"\n",
    "s= s.split()\n",
    "print (s)"
   ]
  },
  {
   "cell_type": "code",
   "execution_count": 19,
   "id": "c89e1a32",
   "metadata": {},
   "outputs": [
    {
     "data": {
      "text/plain": [
       "' \\n** Given the variables:**\\n\\nplanet = \"Earth\"\\ndiameter = 12742\\n** Use .format() to print the following string: **\\n\\nThe diameter of Earth is 12742 kilometers.\\n\\n'"
      ]
     },
     "execution_count": 19,
     "metadata": {},
     "output_type": "execute_result"
    }
   ],
   "source": [
    "\"\"\" \n",
    "** Given the variables:**\n",
    "\n",
    "planet = \"Earth\"\n",
    "diameter = 12742\n",
    "** Use .format() to print the following string: **\n",
    "\n",
    "The diameter of Earth is 12742 kilometers.\n",
    "\n",
    "\"\"\""
   ]
  },
  {
   "cell_type": "code",
   "execution_count": 23,
   "id": "137cdfbd",
   "metadata": {},
   "outputs": [
    {
     "name": "stdout",
     "output_type": "stream",
     "text": [
      "The diameter of Earth is 12742 kilometers.\n"
     ]
    }
   ],
   "source": [
    "planet = \"Earth\"\n",
    "diameter = 12742\n",
    "txt = \"The diameter of {0} is {1} kilometers.\"\n",
    "txt= txt.format(planet, diameter)\n",
    "print (txt)"
   ]
  },
  {
   "cell_type": "code",
   "execution_count": 24,
   "id": "a51ef856",
   "metadata": {},
   "outputs": [
    {
     "data": {
      "text/plain": [
       "'\\n** Given this nested list, use indexing to grab the word \"hello\" **\\n\\nlst = [1,2,[3,4],[5,[100,200,[\\'hello\\']],23,11],1,7]\\n\\n'"
      ]
     },
     "execution_count": 24,
     "metadata": {},
     "output_type": "execute_result"
    }
   ],
   "source": [
    "\"\"\"\n",
    "** Given this nested list, use indexing to grab the word \"hello\" **\n",
    "\n",
    "lst = [1,2,[3,4],[5,[100,200,['hello']],23,11],1,7]\n",
    "\n",
    "\"\"\""
   ]
  },
  {
   "cell_type": "code",
   "execution_count": 35,
   "id": "8df50265",
   "metadata": {},
   "outputs": [
    {
     "name": "stdout",
     "output_type": "stream",
     "text": [
      "hello\n"
     ]
    }
   ],
   "source": [
    "lst = [1,2,[3,4],[5,[100,200,['hello']],23,11],1,7]\n",
    "s=lst[3][1][2][0]\n",
    "print (s)"
   ]
  },
  {
   "cell_type": "code",
   "execution_count": 36,
   "id": "f538bf6b",
   "metadata": {
    "scrolled": false
   },
   "outputs": [
    {
     "data": {
      "text/plain": [
       "'\\n** Given this nested dictionary grab the word \"hello\". Be prepared, this will be annoying/tricky **\\nd = {\\'k1\\':[1,2,3,{\\'tricky\\':[\\'oh\\',\\'man\\',\\'inception\\',\\n                            {\\'target\\':[1,2,3,\\'hello\\']}]}]}\\n'"
      ]
     },
     "execution_count": 36,
     "metadata": {},
     "output_type": "execute_result"
    }
   ],
   "source": [
    "\"\"\"\n",
    "** Given this nested dictionary grab the word \"hello\". Be prepared, this will be annoying/tricky **\n",
    "d = {'k1':[1,2,3,{'tricky':['oh','man','inception',\n",
    "                            {'target':[1,2,3,'hello']}]}]}\n",
    "\"\"\""
   ]
  },
  {
   "cell_type": "code",
   "execution_count": 45,
   "id": "c135ef38",
   "metadata": {},
   "outputs": [
    {
     "name": "stdout",
     "output_type": "stream",
     "text": [
      "hello\n"
     ]
    }
   ],
   "source": [
    "mydict = {'k1':[1,2,3,{'tricky':['oh','man','inception',{'target':[1,2,3,'hello']}]}]}\n",
    "mystr = mydict['k1'][3]['tricky'][3]['target'][3]\n",
    "print (mystr)"
   ]
  },
  {
   "cell_type": "code",
   "execution_count": null,
   "id": "ef072a54",
   "metadata": {},
   "outputs": [],
   "source": [
    "\"\"\"\n",
    "** Create a function that grabs the email website domain from a string in the form: **\n",
    "\n",
    "user@domain.com\n",
    "So for example, passing \"user@domain.com\" would return: domain.com\n",
    "\n",
    "\"\"\""
   ]
  },
  {
   "cell_type": "code",
   "execution_count": 62,
   "id": "8c634be2",
   "metadata": {},
   "outputs": [
    {
     "name": "stdout",
     "output_type": "stream",
     "text": [
      "gmail.com\n"
     ]
    }
   ],
   "source": [
    "def myfun_dom(email):\n",
    "    dom= email.split('@')\n",
    "    print(dom[1])\n",
    "myfun_dom (\"prk@gmail.com\")"
   ]
  },
  {
   "cell_type": "code",
   "execution_count": null,
   "id": "74f53563",
   "metadata": {},
   "outputs": [],
   "source": [
    "\"\"\"\n",
    "** Create a basic function that returns True if the word 'dog' is contained in the input string. \n",
    "Don't worry about edge cases like a punctuation \n",
    "being attached to the word dog, but do account for capitalization. **\n",
    "\"\"\""
   ]
  },
  {
   "cell_type": "code",
   "execution_count": 68,
   "id": "71561876",
   "metadata": {},
   "outputs": [
    {
     "data": {
      "text/plain": [
       "True"
      ]
     },
     "execution_count": 68,
     "metadata": {},
     "output_type": "execute_result"
    }
   ],
   "source": [
    "def serch_dog(s):\n",
    "    return 'dog' in s.lower().split()\n",
    "serch_dog(\"Serch for dog\")"
   ]
  },
  {
   "cell_type": "code",
   "execution_count": null,
   "id": "996e7dac",
   "metadata": {},
   "outputs": [],
   "source": [
    "\"\"\"\n",
    "** Create a function that counts the number of times the word \"dog\" occurs in a string. Again ignore edge cases. **\n",
    "countDog('This dog runs faster than the other dog dude!')\n",
    "\"\"\""
   ]
  },
  {
   "cell_type": "code",
   "execution_count": 79,
   "id": "46885f0b",
   "metadata": {},
   "outputs": [
    {
     "name": "stdout",
     "output_type": "stream",
     "text": [
      "3\n"
     ]
    }
   ],
   "source": [
    "def no_of_dogs(s):\n",
    "    count=0\n",
    "    for x in s.lower().split():\n",
    "        if x=='dog':\n",
    "            count=count+1\n",
    "    print(count)\n",
    "no_of_dogs(\"dog Dog DOG here is xdOg count\")"
   ]
  },
  {
   "cell_type": "code",
   "execution_count": null,
   "id": "df49042e",
   "metadata": {},
   "outputs": [],
   "source": [
    "\"\"\"\n",
    "** Use lambda expressions and the filter() function to filter out words from a list that don't start with the letter 's'. For example:**\n",
    "\n",
    "seq = ['soup','dog','salad','cat','great']\n",
    "should be filtered down to:\n",
    "\n",
    "['soup','salad']\n",
    "\"\"\""
   ]
  },
  {
   "cell_type": "code",
   "execution_count": 83,
   "id": "3914bd04",
   "metadata": {},
   "outputs": [
    {
     "data": {
      "text/plain": [
       "['dog', 'cat', 'great']"
      ]
     },
     "execution_count": 83,
     "metadata": {},
     "output_type": "execute_result"
    }
   ],
   "source": [
    "seq = ['soup','dog','salad','cat','great']\n",
    "list(filter(lambda x:x[0]!='s', seq))"
   ]
  },
  {
   "cell_type": "code",
   "execution_count": null,
   "id": "492126c7",
   "metadata": {},
   "outputs": [],
   "source": [
    "\"\"\"\n",
    "**You are driving a little too fast, and a police officer stops you. \n",
    "Write a function to return one of 3 possible results: \"No ticket\", \"Small ticket\", or \"Big Ticket\". \n",
    "If your speed is 60 or less, the result is \"No Ticket\". If speed is between 61 and 80 inclusive, \n",
    "the result is \"Small Ticket\". If speed is 81 or more, the result is \"Big Ticket\". \n",
    "Unless it is your birthday (encoded as a boolean value in the parameters of the function) \n",
    "-- on your birthday, your speed can be 5 higher in all cases. **\n",
    "\"\"\""
   ]
  },
  {
   "cell_type": "code",
   "execution_count": 99,
   "id": "c051576b",
   "metadata": {},
   "outputs": [
    {
     "data": {
      "text/plain": [
       "'Small Ticket'"
      ]
     },
     "execution_count": 99,
     "metadata": {},
     "output_type": "execute_result"
    }
   ],
   "source": [
    "def caught_speeding(speed, is_birthday):\n",
    "    if is_birthday==True:\n",
    "        nspeed=speed-5\n",
    "    else:\n",
    "        nspeed=speed\n",
    "    if nspeed>80:\n",
    "        return (\"Big Ticket\")\n",
    "    elif nspeed>60:\n",
    "        return (\"Small Ticket\")\n",
    "    else :\n",
    "        return (\"No Ticket\")\n",
    "caught_speeding(84,True)"
   ]
  },
  {
   "cell_type": "code",
   "execution_count": null,
   "id": "8017c072",
   "metadata": {},
   "outputs": [],
   "source": [
    "\"\"\"\n",
    "Question\n",
    "Given a string print number num by extracting all the\n",
    "digits from the string as in string\n",
    "Print negative number if the first character in \n",
    "string is '-'\n",
    "eg.\n",
    "-123abcd should return -123,abcd456-->456,fdhfh78dsd89--->7889,-56dssd78-->-5678\n",
    "\"\"\""
   ]
  },
  {
   "cell_type": "code",
   "execution_count": 26,
   "id": "52b91b65",
   "metadata": {},
   "outputs": [
    {
     "name": "stdout",
     "output_type": "stream",
     "text": [
      "Enter any string: kjhd87ft34\n",
      "8734\n"
     ]
    }
   ],
   "source": [
    "s=input(\"Enter any string: \")\n",
    "num = \"\"\n",
    "for i in s:\n",
    "    if i.isnumeric():\n",
    "        num=num+i\n",
    "print(num)"
   ]
  },
  {
   "cell_type": "code",
   "execution_count": null,
   "id": "68354de9",
   "metadata": {},
   "outputs": [],
   "source": [
    "\"\"\"\n",
    "WAP to check whether a number is palindrome or not on following \n",
    "conditions.\n",
    "1. take input number\n",
    "2. add number and its reverse\n",
    "3. check that number is palindrome or not,if not then sum and its reverse\n",
    "\"\"\""
   ]
  },
  {
   "cell_type": "code",
   "execution_count": 34,
   "id": "083067cc",
   "metadata": {},
   "outputs": [
    {
     "name": "stdout",
     "output_type": "stream",
     "text": [
      "Enter any number:67\n",
      "Number is: 484\n",
      "Reverse is: 484\n",
      "Palindrome is: 484\n"
     ]
    }
   ],
   "source": [
    "no1=input(\"Enter any number:\")\n",
    "no2=int (no1[::-1])\n",
    "no3=str(int(no1)+no2)\n",
    "while no3!=no3[::-1]:\n",
    "    no3=str(int(no3)+int(no3[::-1]))\n",
    "    print(\"Number is:\",no3)\n",
    "    print(\"Reverse is:\",no3[::-1])\n",
    "print(\"Palindrome is:\",no3)"
   ]
  },
  {
   "cell_type": "code",
   "execution_count": null,
   "id": "2d7ae115",
   "metadata": {},
   "outputs": [],
   "source": [
    "\"\"\"Write a python function to find and display the five \n",
    "digit number in which the first digit is two more than \n",
    "the second,the second digit is two more than the third,\n",
    "the fourth digit is two less than the third, and the \n",
    "last digit is two more than\n",
    "the fourth.The sum of the third,fourth and fifth digits\n",
    "equals the first.The sum of all the digits is 19\"\"\""
   ]
  },
  {
   "cell_type": "code",
   "execution_count": 50,
   "id": "ea35b338",
   "metadata": {},
   "outputs": [
    {
     "name": "stdout",
     "output_type": "stream",
     "text": [
      "75313\n"
     ]
    }
   ],
   "source": [
    "def find_five_digit():\n",
    "   for i in range(9,0,-1):\n",
    "       a=i\n",
    "       b=i-2\n",
    "       c=i-4\n",
    "       d=i-6\n",
    "       e=i-4\n",
    "       if c+d+e==a:\n",
    "           if (a+b+c+d+e)==19:\n",
    "               return(int(str(a)+str(b)+str(c)+str(d)+str(e)))\n",
    "print(find_five_digit())"
   ]
  }
 ],
 "metadata": {
  "kernelspec": {
   "display_name": "Python 3 (ipykernel)",
   "language": "python",
   "name": "python3"
  },
  "language_info": {
   "codemirror_mode": {
    "name": "ipython",
    "version": 3
   },
   "file_extension": ".py",
   "mimetype": "text/x-python",
   "name": "python",
   "nbconvert_exporter": "python",
   "pygments_lexer": "ipython3",
   "version": "3.11.5"
  }
 },
 "nbformat": 4,
 "nbformat_minor": 5
}
